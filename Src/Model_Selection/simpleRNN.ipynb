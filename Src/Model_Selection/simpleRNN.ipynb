{
 "cells": [
  {
   "cell_type": "code",
   "execution_count": 1,
   "metadata": {},
   "outputs": [],
   "source": [
    "import os\n",
    "os.environ['TF_CPP_MIN_LOG_LEVEL'] = '2' "
   ]
  },
  {
   "cell_type": "code",
   "execution_count": 2,
   "metadata": {},
   "outputs": [],
   "source": [
    "import numpy as np \n",
    "import pandas as pd\n",
    "from sklearn.preprocessing import StandardScaler, LabelEncoder\n",
    "\n",
    "# Load labels from CSV\n",
    "reference_path = 'data/processed/training2017/label/REFERENCE-original.csv'\n",
    "labels_df = pd.read_csv(reference_path ,header=None, names=['sampleName', 'label'])\n",
    "\n",
    "# Convert string labels to numerical format\n",
    "label_encoder = LabelEncoder()\n",
    "labels_df['label'] = label_encoder.fit_transform(labels_df['label'])\n",
    "\n",
    "# Create a mapping of filename to label\n",
    "label_mapping = dict(zip(labels_df['sampleName'], labels_df['label']))"
   ]
  },
  {
   "cell_type": "code",
   "execution_count": null,
   "metadata": {},
   "outputs": [],
   "source": [
    "labels_df['label'].unique()"
   ]
  },
  {
   "cell_type": "code",
   "execution_count": null,
   "metadata": {},
   "outputs": [],
   "source": [
    "a = np.load(\"data/processed/training2017/sample/A00001.npy\")\n",
    "print(type(a[1]))"
   ]
  },
  {
   "cell_type": "code",
   "execution_count": 5,
   "metadata": {},
   "outputs": [],
   "source": [
    "from tensorflow.keras.utils import to_categorical, pad_sequences\n",
    "\n",
    "def data_generator(file_paths, label_mapping, batch_size):\n",
    "    while True:\n",
    "        batch_paths = np.random.choice(file_paths, size=batch_size, replace=False)\n",
    "        batch_data = []\n",
    "        batch_labels = []\n",
    "\n",
    "        for file_name in batch_paths:\n",
    "            file_path = os.path.join(\"data/processed/training2017/sample\", file_name)\n",
    "            time_series = np.load(file_path)\n",
    "            label = label_mapping[file_name.split('.')[0]]\n",
    "\n",
    "            # Normalize data\n",
    "            time_series = StandardScaler().fit_transform(time_series.reshape(-1, 1)).flatten()\n",
    "\n",
    "            # Pad or truncate sequences to max_seq_length\n",
    "            time_series = pad_sequences([time_series], maxlen=max_seq_length, padding='post', truncating='post')[0]\n",
    "\n",
    "            batch_data.append(time_series)\n",
    "            batch_labels.append(label)\n",
    "\n",
    "        batch_labels = to_categorical(batch_labels, num_classes=len(label_encoder.classes_))\n",
    "        # print(batch_labels)\n",
    "\n",
    "        yield np.array(batch_data), np.array(batch_labels)"
   ]
  },
  {
   "cell_type": "code",
   "execution_count": 15,
   "metadata": {},
   "outputs": [],
   "source": [
    "from sklearn.model_selection import train_test_split\n",
    "\n",
    "# Get the list of file paths\n",
    "file_paths = [file_name for file_name in os.listdir(\"data/processed/training2017/sample\") if file_name.endswith(\".npy\")]\n",
    "\n",
    "max_seq_length = max(len(np.load(os.path.join(\"data/processed/training2017/sample\", file_name))) for file_name in file_paths)\n",
    "\n",
    "# Split into training, validation, and test sets\n",
    "train_paths, test_paths = train_test_split(file_paths, test_size=0.2, random_state=42)\n",
    "train_paths, val_paths = train_test_split(train_paths, test_size=0.1, random_state=42)\n",
    "\n",
    "# Create data generators for training, validation, and test sets\n",
    "batch_size = 32\n",
    "train_generator = data_generator(train_paths, label_mapping, batch_size)\n",
    "val_generator = data_generator(val_paths, label_mapping, batch_size)\n",
    "test_generator = data_generator(test_paths, label_mapping, batch_size)\n",
    "\n",
    "# Get the shape of one sample to set input shape\n",
    "sample_data, label_data = next(train_generator)\n",
    "input_shape = sample_data.shape"
   ]
  },
  {
   "cell_type": "code",
   "execution_count": 7,
   "metadata": {},
   "outputs": [
    {
     "name": "stdout",
     "output_type": "stream",
     "text": [
      "18286\n"
     ]
    }
   ],
   "source": [
    "print(max_seq_length)"
   ]
  },
  {
   "cell_type": "code",
   "execution_count": 16,
   "metadata": {},
   "outputs": [],
   "source": [
    "from tensorflow.keras.models import Sequential\n",
    "from tensorflow.keras.layers import LSTM, Dense, SimpleRNN, Dropout, BatchNormalization\n",
    "\n",
    "learning_rate = 0.1  # Adjust this value as needed\n",
    "\n",
    "# Build the RNN model\n",
    "model = Sequential()\n",
    "model.add(SimpleRNN(units=50, activation='relu', input_shape=(max_seq_length, 1)))\n",
    "model.add(BatchNormalization())\n",
    "model.add(Dropout(0.2))\n",
    "model.add(Dense(units=64, activation='relu'))\n",
    "model.add(BatchNormalization())\n",
    "model.add(Dropout(0.2))\n",
    "model.add(Dense(units=len(label_encoder.classes_), activation='softmax'))  # Output layer with softmax activation\n"
   ]
  },
  {
   "cell_type": "code",
   "execution_count": null,
   "metadata": {},
   "outputs": [],
   "source": [
    "model.summary()"
   ]
  },
  {
   "cell_type": "code",
   "execution_count": 17,
   "metadata": {},
   "outputs": [
    {
     "name": "stdout",
     "output_type": "stream",
     "text": [
      "Epoch 1/10\n",
      "191/191 [==============================] - 472s 2s/step - loss: 0.1785 - accuracy: 0.5553 - val_loss: 0.1716 - val_accuracy: 0.5536\n",
      "Epoch 2/10\n",
      "191/191 [==============================] - 446s 2s/step - loss: 0.1639 - accuracy: 0.6005 - val_loss: 0.1562 - val_accuracy: 0.5982\n",
      "Epoch 3/10\n",
      "191/191 [==============================] - 451s 2s/step - loss: 0.1529 - accuracy: 0.6080 - val_loss: 0.1517 - val_accuracy: 0.5908\n",
      "Epoch 4/10\n",
      "191/191 [==============================] - 468s 2s/step - loss: 0.1491 - accuracy: 0.5931 - val_loss: 0.1451 - val_accuracy: 0.6101\n",
      "Epoch 5/10\n",
      "191/191 [==============================] - 435s 2s/step - loss: 0.1436 - accuracy: 0.6083 - val_loss: 0.1446 - val_accuracy: 0.5967\n",
      "Epoch 6/10\n",
      "191/191 [==============================] - 428s 2s/step - loss: 0.1423 - accuracy: 0.6031 - val_loss: 0.1487 - val_accuracy: 0.5625\n",
      "Epoch 7/10\n",
      "191/191 [==============================] - 426s 2s/step - loss: 0.1422 - accuracy: 0.5972 - val_loss: 0.1395 - val_accuracy: 0.6086\n",
      "Epoch 8/10\n",
      "191/191 [==============================] - 427s 2s/step - loss: 0.1415 - accuracy: 0.5957 - val_loss: 0.1433 - val_accuracy: 0.5774\n",
      "Epoch 9/10\n",
      "191/191 [==============================] - 426s 2s/step - loss: 0.1401 - accuracy: 0.6023 - val_loss: 0.1415 - val_accuracy: 0.5923\n",
      "Epoch 10/10\n",
      "191/191 [==============================] - 427s 2s/step - loss: 0.1397 - accuracy: 0.5996 - val_loss: 0.1360 - val_accuracy: 0.6101\n",
      "53/53 [==============================] - 30s 572ms/step - loss: 0.1307 - accuracy: 0.6450\n",
      "Test Loss: 0.1307, Test Accuracy: 0.6450\n"
     ]
    }
   ],
   "source": [
    "from tensorflow.keras.optimizers import SGD\n",
    "\n",
    "# Use mean squared error as the loss function and set the learning rate\n",
    "learning_rate = 0.01  # Adjust this value as needed\n",
    "model.compile(optimizer=SGD(learning_rate=learning_rate), loss='mean_squared_error', metrics=['accuracy'])\n",
    "\n",
    "# Calculate the number of steps per epoch for training and validation\n",
    "train_steps_per_epoch = len(train_paths) // batch_size\n",
    "val_steps_per_epoch = len(val_paths) // batch_size\n",
    "\n",
    "# Train the model\n",
    "model.fit(train_generator, steps_per_epoch=train_steps_per_epoch, epochs=10,\n",
    "          validation_data=val_generator, validation_steps=val_steps_per_epoch)\n",
    "\n",
    "# Evaluate the model on the test set\n",
    "test_steps_per_epoch = len(test_paths) // batch_size\n",
    "test_loss, test_accuracy = model.evaluate(test_generator, steps=test_steps_per_epoch)\n",
    "print(f\"Test Loss: {test_loss:.4f}, Test Accuracy: {test_accuracy:.4f}\")"
   ]
  }
 ],
 "metadata": {
  "kernelspec": {
   "display_name": "venv",
   "language": "python",
   "name": "python3"
  },
  "language_info": {
   "codemirror_mode": {
    "name": "ipython",
    "version": 3
   },
   "file_extension": ".py",
   "mimetype": "text/x-python",
   "name": "python",
   "nbconvert_exporter": "python",
   "pygments_lexer": "ipython3",
   "version": "3.10.12"
  }
 },
 "nbformat": 4,
 "nbformat_minor": 2
}
